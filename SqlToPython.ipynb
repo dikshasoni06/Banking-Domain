{
 "cells": [
  {
   "cell_type": "code",
   "execution_count": 1,
   "id": "3ef7ea2a-df31-4749-82fa-43643c6db975",
   "metadata": {},
   "outputs": [
    {
     "name": "stdout",
     "output_type": "stream",
     "text": [
      "Defaulting to user installation because normal site-packages is not writeable\n",
      "Collecting psycopg2-binary\n",
      "  Downloading psycopg2_binary-2.9.10-cp312-cp312-win_amd64.whl.metadata (5.0 kB)\n",
      "Downloading psycopg2_binary-2.9.10-cp312-cp312-win_amd64.whl (1.2 MB)\n",
      "   ---------------------------------------- 0.0/1.2 MB ? eta -:--:--\n",
      "   --------- ------------------------------ 0.3/1.2 MB ? eta -:--:--\n",
      "   --------------------------- ------------ 0.8/1.2 MB 2.4 MB/s eta 0:00:01\n",
      "   ---------------------------------------- 1.2/1.2 MB 2.5 MB/s eta 0:00:00\n",
      "Installing collected packages: psycopg2-binary\n",
      "Successfully installed psycopg2-binary-2.9.10\n",
      "Note: you may need to restart the kernel to use updated packages.\n"
     ]
    }
   ],
   "source": [
    "pip install psycopg2-binary"
   ]
  },
  {
   "cell_type": "code",
   "execution_count": 53,
   "id": "1a86e84e-fce6-4a18-b45f-17c1d81c8fc1",
   "metadata": {},
   "outputs": [],
   "source": [
    "import psycopg2\n",
    "import pandas as pd"
   ]
  },
  {
   "cell_type": "code",
   "execution_count": 55,
   "id": "ab700018-21c0-4ba4-a688-1195c239326d",
   "metadata": {},
   "outputs": [],
   "source": [
    "conn = psycopg2.connect(\n",
    "    host='localhost',\n",
    "    user='postgres',\n",
    "    password='SoniDiksha@2005',\n",
    "    dbname='banking_case',\n",
    "    port=5432)"
   ]
  },
  {
   "cell_type": "code",
   "execution_count": null,
   "id": "4a45fddc-5346-4be8-b6f0-916ddc8c81d0",
   "metadata": {},
   "outputs": [],
   "source": [
    "df = pd.read_sql(\"SELECT * FROM customer\", conn)"
   ]
  },
  {
   "cell_type": "code",
   "execution_count": 65,
   "id": "ab62e1a4-cf67-4266-b492-7a584711f2ac",
   "metadata": {},
   "outputs": [
    {
     "name": "stdout",
     "output_type": "stream",
     "text": [
      "  client_id             name  age  location_id joined_bank   banking_contact  \\\n",
      "0  IND81288    Raymond Mills   24        34324  2019-05-06    Anthony Torres   \n",
      "1  IND65833    Julia Spencer   23        42205  2001-12-10  Jonathan Hawkins   \n",
      "2  IND47499   Stephen Murray   27         7314  2010-01-25     Anthony Berry   \n",
      "3  IND72498   Virginia Garza   40        34594  2019-03-28        Steve Diaz   \n",
      "4  IND60181  Melissa Sanders   46        41269  2012-07-20        Shawn Long   \n",
      "\n",
      "  nationality            occupation fee_structure loyalty_classification  ...  \\\n",
      "0    American  Safety Technician IV          High                   Jade  ...   \n",
      "1     African   Software Consultant          High                   Jade  ...   \n",
      "2    European    Help Desk Operator          High                   Gold  ...   \n",
      "3    American          Geologist II           Mid                 Silver  ...   \n",
      "4    American   Assistant Professor           Mid               Platinum  ...   \n",
      "\n",
      "   bank_deposits  checking_accounts  saving_accounts  foreign_currency_acc  \\\n",
      "0     1485828.64          603617.88        607332.46              12249.96   \n",
      "1      641482.79          229521.37        344635.16              61162.31   \n",
      "2     1033401.59          652674.69        203054.35              79071.78   \n",
      "3     1048157.49         1048157.49        234685.02              57513.65   \n",
      "4      487782.53          446644.25        128351.45              30012.14   \n",
      "\n",
      "   business_lending  properties_owned  risk_weighting  brid  genderid  iaid  \n",
      "0        1134475.30                 1             2.0     1         1     1  \n",
      "1        2000526.10                 1             3.0     2         1     2  \n",
      "2         548137.58                 1             3.0     3         2     3  \n",
      "3        1148402.29                 0             4.0     4         1     4  \n",
      "4        1674412.12                 0             3.0     1         2     5  \n",
      "\n",
      "[5 rows x 25 columns]\n"
     ]
    }
   ],
   "source": [
    "conn.close()\n",
    "print(df.head())"
   ]
  },
  {
   "cell_type": "code",
   "execution_count": null,
   "id": "7ac10f44-ccc4-4be2-b834-3824aa1805ed",
   "metadata": {},
   "outputs": [],
   "source": []
  }
 ],
 "metadata": {
  "kernelspec": {
   "display_name": "Python 3 (ipykernel)",
   "language": "python",
   "name": "python3"
  },
  "language_info": {
   "codemirror_mode": {
    "name": "ipython",
    "version": 3
   },
   "file_extension": ".py",
   "mimetype": "text/x-python",
   "name": "python",
   "nbconvert_exporter": "python",
   "pygments_lexer": "ipython3",
   "version": "3.12.7"
  }
 },
 "nbformat": 4,
 "nbformat_minor": 5
}
